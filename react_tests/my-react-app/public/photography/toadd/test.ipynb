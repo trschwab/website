{
 "cells": [
  {
   "cell_type": "code",
   "execution_count": 4,
   "metadata": {},
   "outputs": [
    {
     "name": "stdout",
     "output_type": "stream",
     "text": [
      "{ src: \"/photography/16680018.JPG\", width: 1000, height: 650 },\n",
      "{ src: \"/photography/.DS_Store\", width: 1000, height: 650 },\n",
      "{ src: \"/photography/16700024.JPG\", width: 1000, height: 650 },\n",
      "{ src: \"/photography/16660022 copy.JPG\", width: 650, height: 1000 },\n",
      "{ src: \"/photography/16710018 copy.JPG\", width: 650, height: 1000 },\n",
      "{ src: \"/photography/16660030.JPG\", width: 1000, height: 650 },\n",
      "{ src: \"/photography/16660024.JPG\", width: 1000, height: 650 },\n",
      "{ src: \"/photography/16680010.JPG\", width: 1000, height: 650 },\n",
      "{ src: \"/photography/16680016 copy.JPG\", width: 650, height: 1000 },\n"
     ]
    }
   ],
   "source": [
    "import os\n",
    "files = [f for f in os.listdir('.') if os.path.isfile(f)]\n",
    "for f in files:\n",
    "    if \"test\" in f:\n",
    "       continue\n",
    "    elif \"copy\" in f:\n",
    "      print(f'{{ src: \"/photography/{f}\", width: 650, height: 1000 }},')\n",
    "    else:\n",
    "        print(f'{{ src: \"/photography/{f}\", width: 1000, height: 650 }},')"
   ]
  },
  {
   "cell_type": "code",
   "execution_count": null,
   "metadata": {},
   "outputs": [],
   "source": []
  }
 ],
 "metadata": {
  "kernelspec": {
   "display_name": "Python 3",
   "language": "python",
   "name": "python3"
  },
  "language_info": {
   "codemirror_mode": {
    "name": "ipython",
    "version": 3
   },
   "file_extension": ".py",
   "mimetype": "text/x-python",
   "name": "python",
   "nbconvert_exporter": "python",
   "pygments_lexer": "ipython3",
   "version": "3.undefined.undefined"
  }
 },
 "nbformat": 4,
 "nbformat_minor": 2
}
