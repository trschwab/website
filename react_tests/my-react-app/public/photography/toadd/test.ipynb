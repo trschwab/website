{
 "cells": [
  {
   "cell_type": "code",
   "execution_count": null,
   "metadata": {},
   "outputs": [],
   "source": [
    "import os\n",
    "from PIL import Image\n",
    "\n",
    "# List all files in the current directory\n",
    "files = [f for f in os.listdir('.') if os.path.isfile(f)]\n",
    "\n",
    "for f in files:\n",
    "    if \"test\" in f:\n",
    "       continue\n",
    "    else:\n",
    "        try:\n",
    "            # Open the image file\n",
    "            with Image.open(f) as img:\n",
    "                # Get the dimensions\n",
    "                width, height = img.size\n",
    "                print(f'{{ src: \"/photography/{f}\", width: {width}, height: {height} }},')\n",
    "        except IOError:\n",
    "            # Skip files that are not images\n",
    "            pass"
   ]
  },
  {
   "cell_type": "code",
   "execution_count": null,
   "metadata": {},
   "outputs": [],
   "source": []
  }
 ],
 "metadata": {
  "kernelspec": {
   "display_name": "Python 3",
   "language": "python",
   "name": "python3"
  },
  "language_info": {
   "codemirror_mode": {
    "name": "ipython",
    "version": 3
   },
   "file_extension": ".py",
   "mimetype": "text/x-python",
   "name": "python",
   "nbconvert_exporter": "python",
   "pygments_lexer": "ipython3",
   "version": "3.9.5"
  }
 },
 "nbformat": 4,
 "nbformat_minor": 2
}
