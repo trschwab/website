{
 "cells": [
  {
   "cell_type": "code",
   "execution_count": 2,
   "metadata": {},
   "outputs": [
    {
     "name": "stdout",
     "output_type": "stream",
     "text": [
      "'000079440022.jpg',\n",
      "'62880026.JPG',\n",
      "'81840010.JPG',\n",
      "'000079440021.jpg',\n",
      "'62880024.JPG',\n",
      "'000079440020.jpg',\n",
      "'81840017.JPG',\n",
      "'94550013 copy.JPG',\n",
      "'62880020.JPG',\n",
      "'94550017.JPG',\n",
      "'94530005 copy.JPG',\n",
      "'11930022 copy.JPG',\n",
      "'000079440025.jpg',\n",
      "'81840014.JPG',\n",
      "'000079440027.jpg',\n",
      "'94540005.JPG',\n",
      "'000079440026.jpg',\n",
      "'81840015.JPG',\n",
      "'62870003.JPG',\n",
      "'10270018.JPG',\n",
      "'94530023.JPG',\n",
      "'94530003 copy.JPG',\n",
      "'94560011.JPG',\n",
      "'62870001.JPG',\n",
      "'10270035.JPG',\n",
      "'94560017.JPG',\n",
      "'62870022.JPG',\n",
      "'62870009.JPG',\n",
      "'10270012.JPG',\n",
      "'000005530024.jpg',\n",
      "'94540006 copy.JPG',\n",
      "'94530006 copy.JPG',\n",
      "'94530007 copy.JPG',\n",
      "'94530028.JPG',\n",
      "'10270013.JPG',\n",
      "'94560025.JPG',\n",
      "'62870034.JPG',\n",
      "'62870018.JPG',\n",
      "'000019160016.jpg',\n",
      "'000019160001.jpg',\n",
      "'94560036.JPG',\n",
      "'81840018.JPG',\n",
      "'01680025.JPG',\n",
      "'11930032.JPG',\n",
      "'000019180024.jpg',\n",
      "'000019180025.jpg',\n",
      "'01680030.JPG',\n",
      "'01680024.JPG',\n",
      "'62880012.JPG',\n",
      "'000079440016.jpg',\n",
      "'81840036.JPG',\n",
      "'11930020.JPG',\n",
      "'test.ipynb',\n",
      "'000019150014.jpg',\n",
      "'11930009.JPG',\n",
      "'62880014.JPG',\n",
      "'000019150002.jpg',\n",
      "'000019150003.jpg',\n"
     ]
    }
   ],
   "source": [
    "import os\n",
    "files = [f for f in os.listdir('.') if os.path.isfile(f)]\n",
    "for f in files:\n",
    "    print(f\"'{f}',\")"
   ]
  },
  {
   "cell_type": "code",
   "execution_count": null,
   "metadata": {},
   "outputs": [],
   "source": []
  }
 ],
 "metadata": {
  "kernelspec": {
   "display_name": "Python 3",
   "language": "python",
   "name": "python3"
  },
  "language_info": {
   "codemirror_mode": {
    "name": "ipython",
    "version": 3
   },
   "file_extension": ".py",
   "mimetype": "text/x-python",
   "name": "python",
   "nbconvert_exporter": "python",
   "pygments_lexer": "ipython3",
   "version": "3.9.5"
  }
 },
 "nbformat": 4,
 "nbformat_minor": 2
}
