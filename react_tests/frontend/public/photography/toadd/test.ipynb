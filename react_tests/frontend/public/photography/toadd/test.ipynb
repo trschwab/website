{
 "cells": [
  {
   "cell_type": "code",
   "execution_count": 1,
   "metadata": {},
   "outputs": [
    {
     "name": "stdout",
     "output_type": "stream",
     "text": [
      "{ src: \"/photography/midres/94930032.JPG\", width: 2376, height: 3583 },\n",
      "{ src: \"/photography/midres/94930027.JPG\", width: 3583, height: 2376 },\n",
      "{ src: \"/photography/midres/94920020.JPG\", width: 2376, height: 3583 },\n",
      "{ src: \"/photography/midres/94930034.JPG\", width: 3583, height: 2376 },\n",
      "{ src: \"/photography/midres/94920018.JPG\", width: 3583, height: 2376 },\n",
      "{ src: \"/photography/midres/94890032.JPG\", width: 2376, height: 3583 },\n",
      "{ src: \"/photography/midres/94910008.JPG\", width: 3583, height: 2376 },\n",
      "{ src: \"/photography/midres/94900024.JPG\", width: 3583, height: 2376 },\n",
      "{ src: \"/photography/midres/94900027.JPG\", width: 2376, height: 3583 },\n",
      "{ src: \"/photography/midres/94900023.JPG\", width: 2376, height: 3583 },\n",
      "{ src: \"/photography/midres/94910027.JPG\", width: 2376, height: 3583 },\n",
      "{ src: \"/photography/midres/94910025.JPG\", width: 2376, height: 3583 },\n",
      "{ src: \"/photography/midres/94890036.JPG\", width: 2376, height: 3583 },\n",
      "{ src: \"/photography/midres/94890010.JPG\", width: 3583, height: 2376 },\n",
      "{ src: \"/photography/midres/94910017.JPG\", width: 2376, height: 3583 },\n",
      "{ src: \"/photography/midres/94890016.JPG\", width: 3583, height: 2376 },\n",
      "{ src: \"/photography/midres/94910004.JPG\", width: 3583, height: 2376 },\n",
      "{ src: \"/photography/midres/94900029.JPG\", width: 3583, height: 2376 },\n",
      "{ src: \"/photography/midres/94930012.JPG\", width: 2376, height: 3583 },\n",
      "{ src: \"/photography/midres/94930016.JPG\", width: 2376, height: 3583 },\n",
      "{ src: \"/photography/midres/94920013.JPG\", width: 3583, height: 2376 },\n",
      "{ src: \"/photography/midres/94930003.JPG\", width: 3583, height: 2376 },\n",
      "{ src: \"/photography/midres/94930017.JPG\", width: 3583, height: 2376 },\n"
     ]
    }
   ],
   "source": [
    "import os\n",
    "from PIL import Image, ExifTags\n",
    "\n",
    "# Map EXIF orientation values to rotation angles\n",
    "orientation_to_rotation = {\n",
    "    3: 180,\n",
    "    6: 270,\n",
    "    8: 90\n",
    "}\n",
    "\n",
    "# List all files in the current directory\n",
    "files = [f for f in os.listdir('.') if os.path.isfile(f)]\n",
    "\n",
    "for f in files:\n",
    "    if \"test\" in f:\n",
    "        continue\n",
    "    else:\n",
    "        try:\n",
    "            # Open the image file\n",
    "            with Image.open(f) as img:\n",
    "                # Check if the image has EXIF data\n",
    "                exif = img._getexif()\n",
    "                if exif:\n",
    "                    # Get orientation tag (if it exists)\n",
    "                    for tag, value in ExifTags.TAGS.items():\n",
    "                        if value == 'Orientation':\n",
    "                            orientation_tag = tag\n",
    "                            break\n",
    "\n",
    "                    # Apply rotation if necessary\n",
    "                    if orientation_tag in exif:\n",
    "                        orientation = exif.get(orientation_tag)\n",
    "                        if orientation in orientation_to_rotation:\n",
    "                            img = img.rotate(orientation_to_rotation[orientation], expand=True)\n",
    "\n",
    "                # Get the dimensions after potential rotation\n",
    "                width, height = img.size\n",
    "                print(f'{{ src: \"/photography/midres/{f}\", width: {width}, height: {height} }},')\n",
    "        except IOError:\n",
    "            # Skip files that are not images\n",
    "            pass\n"
   ]
  },
  {
   "cell_type": "code",
   "execution_count": null,
   "metadata": {},
   "outputs": [],
   "source": []
  }
 ],
 "metadata": {
  "kernelspec": {
   "display_name": "Python 3",
   "language": "python",
   "name": "python3"
  },
  "language_info": {
   "codemirror_mode": {
    "name": "ipython",
    "version": 3
   },
   "file_extension": ".py",
   "mimetype": "text/x-python",
   "name": "python",
   "nbconvert_exporter": "python",
   "pygments_lexer": "ipython3",
   "version": "3.9.5"
  }
 },
 "nbformat": 4,
 "nbformat_minor": 2
}
