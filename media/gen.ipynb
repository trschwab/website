{
 "cells": [
  {
   "cell_type": "code",
   "execution_count": 3,
   "metadata": {},
   "outputs": [],
   "source": [
    "import os"
   ]
  },
  {
   "cell_type": "code",
   "execution_count": 1,
   "metadata": {},
   "outputs": [],
   "source": [
    "path = \"/Users/troyschwab/Documents/github_website/media/misc_photography\""
   ]
  },
  {
   "cell_type": "code",
   "execution_count": 4,
   "metadata": {},
   "outputs": [],
   "source": [
    "dir_list = os.listdir(path)"
   ]
  },
  {
   "cell_type": "code",
   "execution_count": 5,
   "metadata": {},
   "outputs": [
    {
     "data": {
      "text/plain": [
       "['62880026.JPG',\n",
       " '62880024.JPG',\n",
       " '62880020.JPG',\n",
       " '62870003.JPG',\n",
       " '10270018.JPG',\n",
       " '62870001.JPG',\n",
       " '10270035.JPG',\n",
       " '62870022.JPG',\n",
       " '62870009.JPG',\n",
       " '10270012.JPG',\n",
       " '000005530024.jpg',\n",
       " '10270013.JPG',\n",
       " '62870034.JPG',\n",
       " '62870018.JPG',\n",
       " '000019160016.jpg',\n",
       " '000019160001.jpg',\n",
       " '01680025.JPG',\n",
       " '000019180024.jpg',\n",
       " '000019180025.jpg',\n",
       " '01680030.JPG',\n",
       " '01680024.JPG',\n",
       " '62880012.JPG',\n",
       " '000019150014.jpg',\n",
       " '62880014.JPG',\n",
       " '000019150002.jpg',\n",
       " '000019150003.jpg']"
      ]
     },
     "execution_count": 5,
     "metadata": {},
     "output_type": "execute_result"
    }
   ],
   "source": [
    "dir_list"
   ]
  },
  {
   "cell_type": "code",
   "execution_count": 6,
   "metadata": {},
   "outputs": [],
   "source": [
    "output = \"\"\n",
    "\n",
    "for file in dir_list:\n",
    "    add = f\"\"\"\n",
    "        <div>\n",
    "        <div class=\"gallery_img_container\">\n",
    "        <img src=\"./media/misc_photography/{file}\" alt=\"\" class=\"portfolio_image\" style=\"width:100%\">\n",
    "        </a>\n",
    "        </div>\n",
    "        </div>\\n\\n\"\"\"\n",
    "    output += add"
   ]
  },
  {
   "cell_type": "code",
   "execution_count": 7,
   "metadata": {},
   "outputs": [
    {
     "data": {
      "text/plain": [
       "'\\n        <div>\\n        <div class=\"gallery_img_container\">\\n        <img src=\"./media/misc_photography/62880026.JPG\" alt=\"\" class=\"portfolio_image\" style=\"width:100%\">\\n        </a>\\n        </div>\\n        </div>\\n\\n\\n        <div>\\n        <div class=\"gallery_img_container\">\\n        <img src=\"./media/misc_photography/62880024.JPG\" alt=\"\" class=\"portfolio_image\" style=\"width:100%\">\\n        </a>\\n        </div>\\n        </div>\\n\\n\\n        <div>\\n        <div class=\"gallery_img_container\">\\n        <img src=\"./media/misc_photography/62880020.JPG\" alt=\"\" class=\"portfolio_image\" style=\"width:100%\">\\n        </a>\\n        </div>\\n        </div>\\n\\n\\n        <div>\\n        <div class=\"gallery_img_container\">\\n        <img src=\"./media/misc_photography/62870003.JPG\" alt=\"\" class=\"portfolio_image\" style=\"width:100%\">\\n        </a>\\n        </div>\\n        </div>\\n\\n\\n        <div>\\n        <div class=\"gallery_img_container\">\\n        <img src=\"./media/misc_photography/10270018.JPG\" alt=\"\" class=\"portfolio_image\" style=\"width:100%\">\\n        </a>\\n        </div>\\n        </div>\\n\\n\\n        <div>\\n        <div class=\"gallery_img_container\">\\n        <img src=\"./media/misc_photography/62870001.JPG\" alt=\"\" class=\"portfolio_image\" style=\"width:100%\">\\n        </a>\\n        </div>\\n        </div>\\n\\n\\n        <div>\\n        <div class=\"gallery_img_container\">\\n        <img src=\"./media/misc_photography/10270035.JPG\" alt=\"\" class=\"portfolio_image\" style=\"width:100%\">\\n        </a>\\n        </div>\\n        </div>\\n\\n\\n        <div>\\n        <div class=\"gallery_img_container\">\\n        <img src=\"./media/misc_photography/62870022.JPG\" alt=\"\" class=\"portfolio_image\" style=\"width:100%\">\\n        </a>\\n        </div>\\n        </div>\\n\\n\\n        <div>\\n        <div class=\"gallery_img_container\">\\n        <img src=\"./media/misc_photography/62870009.JPG\" alt=\"\" class=\"portfolio_image\" style=\"width:100%\">\\n        </a>\\n        </div>\\n        </div>\\n\\n\\n        <div>\\n        <div class=\"gallery_img_container\">\\n        <img src=\"./media/misc_photography/10270012.JPG\" alt=\"\" class=\"portfolio_image\" style=\"width:100%\">\\n        </a>\\n        </div>\\n        </div>\\n\\n\\n        <div>\\n        <div class=\"gallery_img_container\">\\n        <img src=\"./media/misc_photography/000005530024.jpg\" alt=\"\" class=\"portfolio_image\" style=\"width:100%\">\\n        </a>\\n        </div>\\n        </div>\\n\\n\\n        <div>\\n        <div class=\"gallery_img_container\">\\n        <img src=\"./media/misc_photography/10270013.JPG\" alt=\"\" class=\"portfolio_image\" style=\"width:100%\">\\n        </a>\\n        </div>\\n        </div>\\n\\n\\n        <div>\\n        <div class=\"gallery_img_container\">\\n        <img src=\"./media/misc_photography/62870034.JPG\" alt=\"\" class=\"portfolio_image\" style=\"width:100%\">\\n        </a>\\n        </div>\\n        </div>\\n\\n\\n        <div>\\n        <div class=\"gallery_img_container\">\\n        <img src=\"./media/misc_photography/62870018.JPG\" alt=\"\" class=\"portfolio_image\" style=\"width:100%\">\\n        </a>\\n        </div>\\n        </div>\\n\\n\\n        <div>\\n        <div class=\"gallery_img_container\">\\n        <img src=\"./media/misc_photography/000019160016.jpg\" alt=\"\" class=\"portfolio_image\" style=\"width:100%\">\\n        </a>\\n        </div>\\n        </div>\\n\\n\\n        <div>\\n        <div class=\"gallery_img_container\">\\n        <img src=\"./media/misc_photography/000019160001.jpg\" alt=\"\" class=\"portfolio_image\" style=\"width:100%\">\\n        </a>\\n        </div>\\n        </div>\\n\\n\\n        <div>\\n        <div class=\"gallery_img_container\">\\n        <img src=\"./media/misc_photography/01680025.JPG\" alt=\"\" class=\"portfolio_image\" style=\"width:100%\">\\n        </a>\\n        </div>\\n        </div>\\n\\n\\n        <div>\\n        <div class=\"gallery_img_container\">\\n        <img src=\"./media/misc_photography/000019180024.jpg\" alt=\"\" class=\"portfolio_image\" style=\"width:100%\">\\n        </a>\\n        </div>\\n        </div>\\n\\n\\n        <div>\\n        <div class=\"gallery_img_container\">\\n        <img src=\"./media/misc_photography/000019180025.jpg\" alt=\"\" class=\"portfolio_image\" style=\"width:100%\">\\n        </a>\\n        </div>\\n        </div>\\n\\n\\n        <div>\\n        <div class=\"gallery_img_container\">\\n        <img src=\"./media/misc_photography/01680030.JPG\" alt=\"\" class=\"portfolio_image\" style=\"width:100%\">\\n        </a>\\n        </div>\\n        </div>\\n\\n\\n        <div>\\n        <div class=\"gallery_img_container\">\\n        <img src=\"./media/misc_photography/01680024.JPG\" alt=\"\" class=\"portfolio_image\" style=\"width:100%\">\\n        </a>\\n        </div>\\n        </div>\\n\\n\\n        <div>\\n        <div class=\"gallery_img_container\">\\n        <img src=\"./media/misc_photography/62880012.JPG\" alt=\"\" class=\"portfolio_image\" style=\"width:100%\">\\n        </a>\\n        </div>\\n        </div>\\n\\n\\n        <div>\\n        <div class=\"gallery_img_container\">\\n        <img src=\"./media/misc_photography/000019150014.jpg\" alt=\"\" class=\"portfolio_image\" style=\"width:100%\">\\n        </a>\\n        </div>\\n        </div>\\n\\n\\n        <div>\\n        <div class=\"gallery_img_container\">\\n        <img src=\"./media/misc_photography/62880014.JPG\" alt=\"\" class=\"portfolio_image\" style=\"width:100%\">\\n        </a>\\n        </div>\\n        </div>\\n\\n\\n        <div>\\n        <div class=\"gallery_img_container\">\\n        <img src=\"./media/misc_photography/000019150002.jpg\" alt=\"\" class=\"portfolio_image\" style=\"width:100%\">\\n        </a>\\n        </div>\\n        </div>\\n\\n\\n        <div>\\n        <div class=\"gallery_img_container\">\\n        <img src=\"./media/misc_photography/000019150003.jpg\" alt=\"\" class=\"portfolio_image\" style=\"width:100%\">\\n        </a>\\n        </div>\\n        </div>\\n\\n'"
      ]
     },
     "execution_count": 7,
     "metadata": {},
     "output_type": "execute_result"
    }
   ],
   "source": [
    "output"
   ]
  },
  {
   "cell_type": "code",
   "execution_count": 8,
   "metadata": {},
   "outputs": [],
   "source": [
    "with open(\"Output.txt\", \"w\") as text_file:\n",
    "    text_file.write(output)"
   ]
  },
  {
   "cell_type": "code",
   "execution_count": null,
   "metadata": {},
   "outputs": [],
   "source": []
  }
 ],
 "metadata": {
  "kernelspec": {
   "display_name": "Python 3",
   "language": "python",
   "name": "python3"
  },
  "language_info": {
   "codemirror_mode": {
    "name": "ipython",
    "version": 3
   },
   "file_extension": ".py",
   "mimetype": "text/x-python",
   "name": "python",
   "nbconvert_exporter": "python",
   "pygments_lexer": "ipython3",
   "version": "3.9.5"
  }
 },
 "nbformat": 4,
 "nbformat_minor": 2
}
